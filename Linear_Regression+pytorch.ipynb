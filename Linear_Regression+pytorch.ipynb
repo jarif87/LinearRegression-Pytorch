{
  "nbformat": 4,
  "nbformat_minor": 0,
  "metadata": {
    "colab": {
      "provenance": []
    },
    "kernelspec": {
      "name": "python3",
      "display_name": "Python 3"
    },
    "language_info": {
      "name": "python"
    }
  },
  "cells": [
    {
      "cell_type": "code",
      "execution_count": 100,
      "metadata": {
        "id": "Oat6fRO178RI"
      },
      "outputs": [],
      "source": [
        "import torch\n",
        "from torch import nn\n",
        "import numpy as np\n",
        "import matplotlib.pyplot as plt\n",
        "%matplotlib inline"
      ]
    },
    {
      "cell_type": "code",
      "source": [
        "#create 50 random x and y number\n",
        "np.random.seed(42)\n",
        "n=50\n",
        "x=np.random.randn(n)\n",
        "y=x*np.random.randn(n)"
      ],
      "metadata": {
        "id": "-rtTpckp8AvQ"
      },
      "execution_count": 101,
      "outputs": []
    },
    {
      "cell_type": "code",
      "source": [
        "print(x)\n",
        "print(\"===============================================\")\n",
        "print(y)"
      ],
      "metadata": {
        "colab": {
          "base_uri": "https://localhost:8080/"
        },
        "id": "z1UrJj7C8AyV",
        "outputId": "34d4d812-1332-4287-c2d5-5847770f59fc"
      },
      "execution_count": 102,
      "outputs": [
        {
          "output_type": "stream",
          "name": "stdout",
          "text": [
            "[ 0.49671415 -0.1382643   0.64768854  1.52302986 -0.23415337 -0.23413696\n",
            "  1.57921282  0.76743473 -0.46947439  0.54256004 -0.46341769 -0.46572975\n",
            "  0.24196227 -1.91328024 -1.72491783 -0.56228753 -1.01283112  0.31424733\n",
            " -0.90802408 -1.4123037   1.46564877 -0.2257763   0.0675282  -1.42474819\n",
            " -0.54438272  0.11092259 -1.15099358  0.37569802 -0.60063869 -0.29169375\n",
            " -0.60170661  1.85227818 -0.01349722 -1.05771093  0.82254491 -1.22084365\n",
            "  0.2088636  -1.95967012 -1.32818605  0.19686124  0.73846658  0.17136828\n",
            " -0.11564828 -0.3011037  -1.47852199 -0.71984421 -0.46063877  1.05712223\n",
            "  0.34361829 -1.76304016]\n",
            "===============================================\n",
            "[ 1.60977094e-01  5.32431324e-02 -4.38434621e-01  9.31601250e-01\n",
            " -2.41412018e-01 -2.18047093e-01 -1.32530307e+00 -2.37300316e-01\n",
            " -1.55519696e-01  5.29291807e-01  2.22057820e-01  8.64669094e-02\n",
            " -2.67691323e-01  2.28867850e+00 -1.40154028e+00 -7.62596855e-01\n",
            "  7.29340921e-02  3.15357536e-01 -3.28374217e-01  9.11105017e-01\n",
            "  5.29679024e-01 -3.47252206e-01 -2.41926810e-03 -2.22922321e+00\n",
            "  1.42614398e+00  9.11675543e-02 -1.00190616e-01 -1.12336469e-01\n",
            " -5.51150726e-02  5.79761430e-01  1.32178027e-01  6.61471826e-01\n",
            " -1.99474681e-02  5.48180074e-01 -6.65022300e-01  6.12566900e-01\n",
            "  1.91194177e-01 -6.44243728e-01  7.03620112e-01  1.01042461e-01\n",
            "  7.16885259e-02  1.65995027e-01  8.11912345e-02  9.86602832e-02\n",
            "  5.79740527e-01  1.05350276e+00 -1.36404480e-01  2.75967330e-01\n",
            "  1.75707723e-03  4.13586536e-01]\n"
          ]
        }
      ]
    },
    {
      "cell_type": "code",
      "source": [
        "x.shape"
      ],
      "metadata": {
        "colab": {
          "base_uri": "https://localhost:8080/"
        },
        "id": "5rrM7jxm8A12",
        "outputId": "15cf3d43-20ab-48c2-f728-813995434c63"
      },
      "execution_count": 103,
      "outputs": [
        {
          "output_type": "execute_result",
          "data": {
            "text/plain": [
              "(50,)"
            ]
          },
          "metadata": {},
          "execution_count": 103
        }
      ]
    },
    {
      "cell_type": "code",
      "source": [
        "y.shape"
      ],
      "metadata": {
        "colab": {
          "base_uri": "https://localhost:8080/"
        },
        "id": "uLePkp_q8A5d",
        "outputId": "4eca363c-9dba-47bd-e06b-5e43117093ee"
      },
      "execution_count": 104,
      "outputs": [
        {
          "output_type": "execute_result",
          "data": {
            "text/plain": [
              "(50,)"
            ]
          },
          "metadata": {},
          "execution_count": 104
        }
      ]
    },
    {
      "cell_type": "code",
      "source": [
        "colors=np.random.rand(n)\n",
        "plt.plot(np.unique(x),np.poly1d(np.polyfit(x,y,1))(np.unique(x)))\n",
        "plt.scatter(x,y,c=colors)\n",
        "plt.show()"
      ],
      "metadata": {
        "colab": {
          "base_uri": "https://localhost:8080/",
          "height": 430
        },
        "id": "3N0IgR_O8zTq",
        "outputId": "2137c73d-2c0f-44a5-d4b9-79fa02c1b3f5"
      },
      "execution_count": 105,
      "outputs": [
        {
          "output_type": "display_data",
          "data": {
            "text/plain": [
              "<Figure size 640x480 with 1 Axes>"
            ],
            "image/png": "[encoded data removed]"
          },
          "metadata": {}
        }
      ]
    },
    {
      "cell_type": "markdown",
      "source": [
        "# build a toy dataset"
      ],
      "metadata": {
        "id": "iUp4Myl99ayl"
      }
    },
    {
      "cell_type": "code",
      "source": [
        "x_values=[i for i in range(11)]\n",
        "x_values"
      ],
      "metadata": {
        "colab": {
          "base_uri": "https://localhost:8080/"
        },
        "id": "wrM74kUp8zHp",
        "outputId": "cd796d1f-9c20-4840-d957-24980609b545"
      },
      "execution_count": 106,
      "outputs": [
        {
          "output_type": "execute_result",
          "data": {
            "text/plain": [
              "[0, 1, 2, 3, 4, 5, 6, 7, 8, 9, 10]"
            ]
          },
          "metadata": {},
          "execution_count": 106
        }
      ]
    },
    {
      "cell_type": "code",
      "source": [
        "#Convert list of numbers to numpy array\n",
        "x_train=np.array(x_values,dtype=np.float32)\n",
        "print(x_train)\n",
        "\n",
        "print(\"===================================\")\n",
        "print(\"shape :\",x_train.shape)"
      ],
      "metadata": {
        "colab": {
          "base_uri": "https://localhost:8080/"
        },
        "id": "4tIBx4u_8zD5",
        "outputId": "6cf14de0-0668-4127-f4bb-1e5109c1d760"
      },
      "execution_count": 107,
      "outputs": [
        {
          "output_type": "stream",
          "name": "stdout",
          "text": [
            "[ 0.  1.  2.  3.  4.  5.  6.  7.  8.  9. 10.]\n",
            "===================================\n",
            "shape : (11,)\n"
          ]
        }
      ]
    },
    {
      "cell_type": "code",
      "source": [
        "# Convert to 2-dimensional array\n",
        "x_train=x_train.reshape(-1,1)\n",
        "x_train"
      ],
      "metadata": {
        "colab": {
          "base_uri": "https://localhost:8080/"
        },
        "id": "Tb_i8UK08zA6",
        "outputId": "03ba2a08-9a30-4694-8231-0a76828e72f4"
      },
      "execution_count": 108,
      "outputs": [
        {
          "output_type": "execute_result",
          "data": {
            "text/plain": [
              "array([[ 0.],\n",
              "       [ 1.],\n",
              "       [ 2.],\n",
              "       [ 3.],\n",
              "       [ 4.],\n",
              "       [ 5.],\n",
              "       [ 6.],\n",
              "       [ 7.],\n",
              "       [ 8.],\n",
              "       [ 9.],\n",
              "       [10.]], dtype=float32)"
            ]
          },
          "metadata": {},
          "execution_count": 108
        }
      ]
    },
    {
      "cell_type": "code",
      "source": [
        "x_train.shape"
      ],
      "metadata": {
        "colab": {
          "base_uri": "https://localhost:8080/"
        },
        "id": "WhrAMpFD_IcV",
        "outputId": "acb69cc3-d909-4ec3-8e55-f5c62b0bc0d9"
      },
      "execution_count": 109,
      "outputs": [
        {
          "output_type": "execute_result",
          "data": {
            "text/plain": [
              "(11, 1)"
            ]
          },
          "metadata": {},
          "execution_count": 109
        }
      ]
    },
    {
      "cell_type": "code",
      "source": [
        "# Create list of y values\n",
        "y_values=[2*i+1 for i in x_values]\n",
        "y_values"
      ],
      "metadata": {
        "colab": {
          "base_uri": "https://localhost:8080/"
        },
        "id": "Q7BUhOJO-Jcv",
        "outputId": "7ae4d8a4-5630-4da6-cbc3-bcd655d1a9cd"
      },
      "execution_count": 110,
      "outputs": [
        {
          "output_type": "execute_result",
          "data": {
            "text/plain": [
              "[1, 3, 5, 7, 9, 11, 13, 15, 17, 19, 21]"
            ]
          },
          "metadata": {},
          "execution_count": 110
        }
      ]
    },
    {
      "cell_type": "code",
      "source": [
        "# Convert to numpy array\n",
        "y_train=np.array(y_values,dtype=np.float32)\n",
        "print(y_train)"
      ],
      "metadata": {
        "colab": {
          "base_uri": "https://localhost:8080/"
        },
        "id": "vpWd2w5i-JP4",
        "outputId": "7f25b51d-59bc-4dcd-a636-a5c0799acdf5"
      },
      "execution_count": 111,
      "outputs": [
        {
          "output_type": "stream",
          "name": "stdout",
          "text": [
            "[ 1.  3.  5.  7.  9. 11. 13. 15. 17. 19. 21.]\n"
          ]
        }
      ]
    },
    {
      "cell_type": "code",
      "source": [
        "# Reshape y numpy array to 2-dimension\n",
        "\n",
        "y_train=y_train.reshape(-1,1)\n",
        "y_train"
      ],
      "metadata": {
        "colab": {
          "base_uri": "https://localhost:8080/"
        },
        "id": "gcR9gFj4-JMi",
        "outputId": "94a44762-b456-4860-b81e-77ed8ae2c615"
      },
      "execution_count": 112,
      "outputs": [
        {
          "output_type": "execute_result",
          "data": {
            "text/plain": [
              "array([[ 1.],\n",
              "       [ 3.],\n",
              "       [ 5.],\n",
              "       [ 7.],\n",
              "       [ 9.],\n",
              "       [11.],\n",
              "       [13.],\n",
              "       [15.],\n",
              "       [17.],\n",
              "       [19.],\n",
              "       [21.]], dtype=float32)"
            ]
          },
          "metadata": {},
          "execution_count": 112
        }
      ]
    },
    {
      "cell_type": "code",
      "source": [
        "y_train.shape"
      ],
      "metadata": {
        "colab": {
          "base_uri": "https://localhost:8080/"
        },
        "id": "TaJuX-Gm_EXN",
        "outputId": "d540403d-2026-459e-d56d-b6d605913d1b"
      },
      "execution_count": 113,
      "outputs": [
        {
          "output_type": "execute_result",
          "data": {
            "text/plain": [
              "(11, 1)"
            ]
          },
          "metadata": {},
          "execution_count": 113
        }
      ]
    },
    {
      "cell_type": "markdown",
      "source": [
        "#  Create Model"
      ],
      "metadata": {
        "id": "C2zyfBQD_V7M"
      }
    },
    {
      "cell_type": "code",
      "source": [
        "class LinearRegressionModel(nn.Module):\n",
        "  def __init__(self,input_dim,output_dim):\n",
        "    super(LinearRegressionModel,self).__init__()\n",
        "    self.linear_layer=nn.Linear(input_dim,output_dim)\n",
        "\n",
        "  def forward(self,x):\n",
        "    out=self.linear_layer(x)\n",
        "    return out\n",
        "input_dim=1\n",
        "output_dim=1\n",
        "model=LinearRegressionModel(input_dim,output_dim)\n",
        "model"
      ],
      "metadata": {
        "colab": {
          "base_uri": "https://localhost:8080/"
        },
        "id": "t-K22q6n_ET7",
        "outputId": "ea15a9f8-9f36-4066-ff59-471fe2cdf6a8"
      },
      "execution_count": 114,
      "outputs": [
        {
          "output_type": "execute_result",
          "data": {
            "text/plain": [
              "LinearRegressionModel(\n",
              "  (linear_layer): Linear(in_features=1, out_features=1, bias=True)\n",
              ")"
            ]
          },
          "metadata": {},
          "execution_count": 114
        }
      ]
    },
    {
      "cell_type": "code",
      "source": [
        "loss0= nn.L1Loss()\n",
        "optimizer=torch.optim.Adam(params=model.parameters(), lr=0.1)"
      ],
      "metadata": {
        "id": "iLDadokcA2zG"
      },
      "execution_count": 115,
      "outputs": []
    },
    {
      "cell_type": "code",
      "source": [
        "torch.manual_seed(42)\n"
      ],
      "metadata": {
        "colab": {
          "base_uri": "https://localhost:8080/"
        },
        "id": "FSZzqbwABPRN",
        "outputId": "5d5bc658-60c1-484d-c24e-283616a38a36"
      },
      "execution_count": 116,
      "outputs": [
        {
          "output_type": "execute_result",
          "data": {
            "text/plain": [
              "<torch._C.Generator at 0x7f86340c55b0>"
            ]
          },
          "metadata": {},
          "execution_count": 116
        }
      ]
    },
    {
      "cell_type": "markdown",
      "source": [
        "# train Model"
      ],
      "metadata": {
        "id": "TW2ATWeKJVjg"
      }
    },
    {
      "cell_type": "code",
      "source": [
        "epochs=100\n",
        "for epoch in range(epochs):\n",
        "  epoch+=1\n",
        "  input=torch.from_numpy(x_train).requires_grad_()\n",
        "  label=torch.from_numpy(y_train)\n",
        "  optimizer.zero_grad()\n",
        "  output=model(input)\n",
        "  loss=loss0(output,label)\n",
        "  loss.backward()\n",
        "  optimizer.step()\n",
        "  print(f\"Epoch : {epoch} | Loss : {loss.item()}\")"
      ],
      "metadata": {
        "colab": {
          "base_uri": "https://localhost:8080/"
        },
        "id": "DhhTQdanCKuF",
        "outputId": "066655b3-e2e3-4cda-99c5-c8f4af976458"
      },
      "execution_count": 117,
      "outputs": [
        {
          "output_type": "stream",
          "name": "stdout",
          "text": [
            "Epoch : 1 | Loss : 6.347299575805664\n",
            "Epoch : 2 | Loss : 5.747299671173096\n",
            "Epoch : 3 | Loss : 5.1527557373046875\n",
            "Epoch : 4 | Loss : 4.571832656860352\n",
            "Epoch : 5 | Loss : 3.991267204284668\n",
            "Epoch : 6 | Loss : 3.4108710289001465\n",
            "Epoch : 7 | Loss : 2.830561637878418\n",
            "Epoch : 8 | Loss : 2.250295400619507\n",
            "Epoch : 9 | Loss : 1.7035980224609375\n",
            "Epoch : 10 | Loss : 1.169494390487671\n",
            "Epoch : 11 | Loss : 0.7033745646476746\n",
            "Epoch : 12 | Loss : 0.4086090326309204\n",
            "Epoch : 13 | Loss : 0.7369705438613892\n",
            "Epoch : 14 | Loss : 1.1035429239273071\n",
            "Epoch : 15 | Loss : 1.3349381685256958\n",
            "Epoch : 16 | Loss : 1.4537702798843384\n",
            "Epoch : 17 | Loss : 1.4779056310653687\n",
            "Epoch : 18 | Loss : 1.4216951131820679\n",
            "Epoch : 19 | Loss : 1.2968266010284424\n",
            "Epoch : 20 | Loss : 1.1129348278045654\n",
            "Epoch : 21 | Loss : 0.8780364990234375\n",
            "Epoch : 22 | Loss : 0.5988662838935852\n",
            "Epoch : 23 | Loss : 0.33113986253738403\n",
            "Epoch : 24 | Loss : 0.39173391461372375\n",
            "Epoch : 25 | Loss : 0.5335368514060974\n",
            "Epoch : 26 | Loss : 0.6501497626304626\n",
            "Epoch : 27 | Loss : 0.7193384766578674\n",
            "Epoch : 28 | Loss : 0.7331617474555969\n",
            "Epoch : 29 | Loss : 0.6975873708724976\n",
            "Epoch : 30 | Loss : 0.6178855895996094\n",
            "Epoch : 31 | Loss : 0.4987201690673828\n",
            "Epoch : 32 | Loss : 0.3601362109184265\n",
            "Epoch : 33 | Loss : 0.23369789123535156\n",
            "Epoch : 34 | Loss : 0.25358912348747253\n",
            "Epoch : 35 | Loss : 0.3712879419326782\n",
            "Epoch : 36 | Loss : 0.4069863557815552\n",
            "Epoch : 37 | Loss : 0.3698781132698059\n",
            "Epoch : 38 | Loss : 0.26806533336639404\n",
            "Epoch : 39 | Loss : 0.1348744034767151\n",
            "Epoch : 40 | Loss : 0.1648966521024704\n",
            "Epoch : 41 | Loss : 0.21759089827537537\n",
            "Epoch : 42 | Loss : 0.23254910111427307\n",
            "Epoch : 43 | Loss : 0.1987285614013672\n",
            "Epoch : 44 | Loss : 0.12191737443208694\n",
            "Epoch : 45 | Loss : 0.049915432929992676\n",
            "Epoch : 46 | Loss : 0.12449106574058533\n",
            "Epoch : 47 | Loss : 0.12741194665431976\n",
            "Epoch : 48 | Loss : 0.06049972400069237\n",
            "Epoch : 49 | Loss : 0.0687054991722107\n",
            "Epoch : 50 | Loss : 0.11530046164989471\n",
            "Epoch : 51 | Loss : 0.08815207332372665\n",
            "Epoch : 52 | Loss : 0.046064089983701706\n",
            "Epoch : 53 | Loss : 0.0818113163113594\n",
            "Epoch : 54 | Loss : 0.08077117055654526\n",
            "Epoch : 55 | Loss : 0.04938929155468941\n",
            "Epoch : 56 | Loss : 0.07578258961439133\n",
            "Epoch : 57 | Loss : 0.07023556530475616\n",
            "Epoch : 58 | Loss : 0.042444419115781784\n",
            "Epoch : 59 | Loss : 0.055335309356451035\n",
            "Epoch : 60 | Loss : 0.03329312428832054\n",
            "Epoch : 61 | Loss : 0.052844129502773285\n",
            "Epoch : 62 | Loss : 0.042662300169467926\n",
            "Epoch : 63 | Loss : 0.03605061396956444\n",
            "Epoch : 64 | Loss : 0.037186361849308014\n",
            "Epoch : 65 | Loss : 0.03934124484658241\n",
            "Epoch : 66 | Loss : 0.0466921329498291\n",
            "Epoch : 67 | Loss : 0.019296884536743164\n",
            "Epoch : 68 | Loss : 0.05381382629275322\n",
            "Epoch : 69 | Loss : 0.019392305985093117\n",
            "Epoch : 70 | Loss : 0.08389608561992645\n",
            "Epoch : 71 | Loss : 0.10549857467412949\n",
            "Epoch : 72 | Loss : 0.06006067618727684\n",
            "Epoch : 73 | Loss : 0.04977121204137802\n",
            "Epoch : 74 | Loss : 0.07782156020402908\n",
            "Epoch : 75 | Loss : 0.03428591415286064\n",
            "Epoch : 76 | Loss : 0.07337212562561035\n",
            "Epoch : 77 | Loss : 0.10160600394010544\n",
            "Epoch : 78 | Loss : 0.058666642755270004\n",
            "Epoch : 79 | Loss : 0.04933054745197296\n",
            "Epoch : 80 | Loss : 0.07875634729862213\n",
            "Epoch : 81 | Loss : 0.04145500436425209\n",
            "Epoch : 82 | Loss : 0.06046120077371597\n",
            "Epoch : 83 | Loss : 0.08271075785160065\n",
            "Epoch : 84 | Loss : 0.03507755696773529\n",
            "Epoch : 85 | Loss : 0.07522206753492355\n",
            "Epoch : 86 | Loss : 0.10692458599805832\n",
            "Epoch : 87 | Loss : 0.06812570244073868\n",
            "Epoch : 88 | Loss : 0.033912528306245804\n",
            "Epoch : 89 | Loss : 0.058537792414426804\n",
            "Epoch : 90 | Loss : 0.013703021220862865\n",
            "Epoch : 91 | Loss : 0.09345187991857529\n",
            "Epoch : 92 | Loss : 0.12298168987035751\n",
            "Epoch : 93 | Loss : 0.08284375816583633\n",
            "Epoch : 94 | Loss : 0.019815655425190926\n",
            "Epoch : 95 | Loss : 0.045591842383146286\n",
            "Epoch : 96 | Loss : 0.0026432385202497244\n",
            "Epoch : 97 | Loss : 0.09656436741352081\n",
            "Epoch : 98 | Loss : 0.11915808171033859\n",
            "Epoch : 99 | Loss : 0.07322902232408524\n",
            "Epoch : 100 | Loss : 0.03421809524297714\n"
          ]
        }
      ]
    },
    {
      "cell_type": "code",
      "source": [
        "predicted = model(torch.from_numpy(x_train).requires_grad_()).data.numpy()\n",
        "predicted"
      ],
      "metadata": {
        "colab": {
          "base_uri": "https://localhost:8080/"
        },
        "id": "6NP8rrCs_ENr",
        "outputId": "0f0a8dce-5475-4225-fa39-fd8cc42e8418"
      },
      "execution_count": 118,
      "outputs": [
        {
          "output_type": "execute_result",
          "data": {
            "text/plain": [
              "array([[ 0.97844243],\n",
              "       [ 2.9698102 ],\n",
              "       [ 4.961178  ],\n",
              "       [ 6.952546  ],\n",
              "       [ 8.943913  ],\n",
              "       [10.935281  ],\n",
              "       [12.926649  ],\n",
              "       [14.918017  ],\n",
              "       [16.909386  ],\n",
              "       [18.900753  ],\n",
              "       [20.89212   ]], dtype=float32)"
            ]
          },
          "metadata": {},
          "execution_count": 118
        }
      ]
    },
    {
      "cell_type": "code",
      "source": [
        "y_train"
      ],
      "metadata": {
        "colab": {
          "base_uri": "https://localhost:8080/"
        },
        "id": "_b0RTfIP_EKt",
        "outputId": "3bd9f89a-a91a-4eca-a242-c4dcf0d761cc"
      },
      "execution_count": 119,
      "outputs": [
        {
          "output_type": "execute_result",
          "data": {
            "text/plain": [
              "array([[ 1.],\n",
              "       [ 3.],\n",
              "       [ 5.],\n",
              "       [ 7.],\n",
              "       [ 9.],\n",
              "       [11.],\n",
              "       [13.],\n",
              "       [15.],\n",
              "       [17.],\n",
              "       [19.],\n",
              "       [21.]], dtype=float32)"
            ]
          },
          "metadata": {},
          "execution_count": 119
        }
      ]
    },
    {
      "cell_type": "code",
      "source": [
        "plt.figure(figsize=(10,6))\n",
        "plt.plot(x_train,y_train,color=\"green\",marker=\"P\",label=\"Train data\")\n",
        "plt.plot(x_train,predicted,color=\"black\",marker=\"H\",linestyle=\"--\",label=\"Prediction\")\n",
        "plt.legend(loc=\"best\")\n",
        "plt.show()"
      ],
      "metadata": {
        "colab": {
          "base_uri": "https://localhost:8080/",
          "height": 522
        },
        "id": "BxgdyP5DDt1A",
        "outputId": "4b2fbeef-767c-405e-c9c3-dc3e1d86851f"
      },
      "execution_count": 120,
      "outputs": [
        {
          "output_type": "display_data",
          "data": {
            "text/plain": [
              "<Figure size 1000x600 with 1 Axes>"
            ],
            "image/png": "[encoded data removed]"
          },
          "metadata": {}
        }
      ]
    },
    {
      "cell_type": "code",
      "source": [],
      "metadata": {
        "id": "tc-xoF-PJRP5"
      },
      "execution_count": 120,
      "outputs": []
    }
  ]
}