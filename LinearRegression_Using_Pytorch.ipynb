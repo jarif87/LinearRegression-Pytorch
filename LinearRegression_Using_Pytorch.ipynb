{
  "nbformat": 4,
  "nbformat_minor": 0,
  "metadata": {
    "colab": {
      "provenance": []
    },
    "kernelspec": {
      "name": "python3",
      "display_name": "Python 3"
    },
    "language_info": {
      "name": "python"
    }
  },
  "cells": [
    {
      "cell_type": "code",
      "execution_count": 18,
      "metadata": {
        "id": "8hYWZZ4JKL_Y"
      },
      "outputs": [],
      "source": [
        "import torch\n",
        "from torch import nn\n",
        "import matplotlib.pyplot as plt\n",
        "%matplotlib inline"
      ]
    },
    {
      "cell_type": "markdown",
      "source": [
        "# Data"
      ],
      "metadata": {
        "id": "-CWdez48Rhs_"
      }
    },
    {
      "cell_type": "code",
      "source": [
        "weight=0.7\n",
        "bias=0.3\n",
        "X=torch.arange(0,1,0.02).unsqueeze(dim=1) #start,end ,step\n",
        "Y=weight*X+bias"
      ],
      "metadata": {
        "id": "s5iMz8_GKOWe"
      },
      "execution_count": 19,
      "outputs": []
    },
    {
      "cell_type": "code",
      "source": [
        "X[: 10]"
      ],
      "metadata": {
        "colab": {
          "base_uri": "https://localhost:8080/"
        },
        "id": "OYtzGAXqKOaF",
        "outputId": "d371d618-972e-42ba-bda4-9a4fcb979fa8"
      },
      "execution_count": 20,
      "outputs": [
        {
          "output_type": "execute_result",
          "data": {
            "text/plain": [
              "tensor([[0.0000],\n",
              "        [0.0200],\n",
              "        [0.0400],\n",
              "        [0.0600],\n",
              "        [0.0800],\n",
              "        [0.1000],\n",
              "        [0.1200],\n",
              "        [0.1400],\n",
              "        [0.1600],\n",
              "        [0.1800]])"
            ]
          },
          "metadata": {},
          "execution_count": 20
        }
      ]
    },
    {
      "cell_type": "code",
      "source": [
        "Y[: 10]"
      ],
      "metadata": {
        "colab": {
          "base_uri": "https://localhost:8080/"
        },
        "id": "X2IVPjxOKOda",
        "outputId": "d459576f-27ca-4ace-c5be-fd4622d71259"
      },
      "execution_count": 21,
      "outputs": [
        {
          "output_type": "execute_result",
          "data": {
            "text/plain": [
              "tensor([[0.3000],\n",
              "        [0.3140],\n",
              "        [0.3280],\n",
              "        [0.3420],\n",
              "        [0.3560],\n",
              "        [0.3700],\n",
              "        [0.3840],\n",
              "        [0.3980],\n",
              "        [0.4120],\n",
              "        [0.4260]])"
            ]
          },
          "metadata": {},
          "execution_count": 21
        }
      ]
    },
    {
      "cell_type": "code",
      "source": [
        "len(X)"
      ],
      "metadata": {
        "colab": {
          "base_uri": "https://localhost:8080/"
        },
        "id": "TgvwOSnDOfZ7",
        "outputId": "27cacb15-df54-48ae-aeec-3b86c6f30cfc"
      },
      "execution_count": 22,
      "outputs": [
        {
          "output_type": "execute_result",
          "data": {
            "text/plain": [
              "50"
            ]
          },
          "metadata": {},
          "execution_count": 22
        }
      ]
    },
    {
      "cell_type": "code",
      "source": [
        "len(Y)"
      ],
      "metadata": {
        "colab": {
          "base_uri": "https://localhost:8080/"
        },
        "id": "yLIxnUZ_OfWl",
        "outputId": "e4ceac8c-477f-4dcc-c2ba-5d556be7b20c"
      },
      "execution_count": 23,
      "outputs": [
        {
          "output_type": "execute_result",
          "data": {
            "text/plain": [
              "50"
            ]
          },
          "metadata": {},
          "execution_count": 23
        }
      ]
    },
    {
      "cell_type": "code",
      "source": [
        "from sklearn.model_selection import train_test_split\n",
        "X_train, X_test, y_train, y_test = train_test_split(X, Y, test_size=0.2, random_state=42)"
      ],
      "metadata": {
        "id": "CJuIE7TtO6Q7"
      },
      "execution_count": 24,
      "outputs": []
    },
    {
      "cell_type": "code",
      "source": [
        "len(X_train),len(X_test)"
      ],
      "metadata": {
        "colab": {
          "base_uri": "https://localhost:8080/"
        },
        "id": "GdBkJ6c2O6NO",
        "outputId": "a3f7cfc2-e371-428c-febb-beafa1775fb5"
      },
      "execution_count": 25,
      "outputs": [
        {
          "output_type": "execute_result",
          "data": {
            "text/plain": [
              "(40, 10)"
            ]
          },
          "metadata": {},
          "execution_count": 25
        }
      ]
    },
    {
      "cell_type": "markdown",
      "source": [
        "# Create Model"
      ],
      "metadata": {
        "id": "0qlbgY5LPk9j"
      }
    },
    {
      "cell_type": "code",
      "source": [
        "class LinearModel_0(nn.Module):\n",
        "  def __init__(self):\n",
        "    super().__init__()\n",
        "    self.weight=nn.Parameter(torch.randn(1,requires_grad=True,dtype=torch.float))\n",
        "    self.bias=nn.Parameter(torch.randn(1,requires_grad=True,dtype=torch.float))\n",
        "\n",
        "  def forward(self,x):\n",
        "    return self.weight*x+self.bias\n",
        "\n",
        "model_0=LinearModel_0()\n",
        "model_0"
      ],
      "metadata": {
        "colab": {
          "base_uri": "https://localhost:8080/"
        },
        "id": "8mntfbJvO6J7",
        "outputId": "e1dd6109-535d-4f7b-e0c5-2bb1a01f0715"
      },
      "execution_count": 26,
      "outputs": [
        {
          "output_type": "execute_result",
          "data": {
            "text/plain": [
              "LinearModel_0()"
            ]
          },
          "metadata": {},
          "execution_count": 26
        }
      ]
    },
    {
      "cell_type": "code",
      "source": [
        "list(model_0.parameters())"
      ],
      "metadata": {
        "colab": {
          "base_uri": "https://localhost:8080/"
        },
        "id": "PaXu0Ar-O6G8",
        "outputId": "070e4d8f-50f9-4659-a8a7-701b5c1044b4"
      },
      "execution_count": 27,
      "outputs": [
        {
          "output_type": "execute_result",
          "data": {
            "text/plain": [
              "[Parameter containing:\n",
              " tensor([0.3367], requires_grad=True),\n",
              " Parameter containing:\n",
              " tensor([0.1288], requires_grad=True)]"
            ]
          },
          "metadata": {},
          "execution_count": 27
        }
      ]
    },
    {
      "cell_type": "code",
      "source": [
        "model_0.state_dict()"
      ],
      "metadata": {
        "colab": {
          "base_uri": "https://localhost:8080/"
        },
        "id": "MRnHUfDeO6D2",
        "outputId": "331e7877-268d-4c6a-9e45-c36606038cd7"
      },
      "execution_count": 28,
      "outputs": [
        {
          "output_type": "execute_result",
          "data": {
            "text/plain": [
              "OrderedDict([('weight', tensor([0.3367])), ('bias', tensor([0.1288]))])"
            ]
          },
          "metadata": {},
          "execution_count": 28
        }
      ]
    },
    {
      "cell_type": "markdown",
      "source": [
        "# Loss ANd Optimizer"
      ],
      "metadata": {
        "id": "TSMq5XzgReK9"
      }
    },
    {
      "cell_type": "code",
      "source": [
        "loss_0=nn.MSELoss()\n",
        "optimizer=torch.optim.Adam(params=model_0.parameters(), lr=0.001)"
      ],
      "metadata": {
        "id": "aP4Ve0vfRDgh"
      },
      "execution_count": 29,
      "outputs": []
    },
    {
      "cell_type": "markdown",
      "source": [
        "# Train Model"
      ],
      "metadata": {
        "id": "76irb-KlRcHw"
      }
    },
    {
      "cell_type": "code",
      "source": [
        "torch.manual_seed(42)\n",
        "epochs=100\n",
        "train_loss=[]\n",
        "test_loss=[]\n",
        "epoch_count=[]\n",
        "\n",
        "for epoch in range(epochs):\n",
        "  model_0.train()\n",
        "  pred=model_0(X_train)\n",
        "  loss=loss_0(pred,y_train)\n",
        "  optimizer.zero_grad()\n",
        "  loss.backward()\n",
        "  optimizer.step()\n",
        "\n",
        "  #testing\n",
        "  model_0.eval()\n",
        "  with torch.inference_mode():\n",
        "    test_pred=model_0(X_test)\n",
        "    test_loss_list=loss_0(test_pred,y_test.type(torch.float))\n",
        "\n",
        "    if epoch%10==0:\n",
        "      epoch_count.append(epoch)\n",
        "      train_loss.append(loss.item())\n",
        "      test_loss.append(test_loss_list.item())\n",
        "      print(f\"Epoch : {epoch} | Train Loss : {loss:.2f} | Test Loss : {test_loss_list:.2f}\")\n"
      ],
      "metadata": {
        "colab": {
          "base_uri": "https://localhost:8080/"
        },
        "id": "z4B5aJlcRDdC",
        "outputId": "34f5f03b-d6bd-4b8d-b492-61a0f73fa5c1"
      },
      "execution_count": 30,
      "outputs": [
        {
          "output_type": "stream",
          "name": "stdout",
          "text": [
            "Epoch : 0 | Train Loss : 0.13 | Test Loss : 0.15\n",
            "Epoch : 10 | Train Loss : 0.12 | Test Loss : 0.14\n",
            "Epoch : 20 | Train Loss : 0.11 | Test Loss : 0.13\n",
            "Epoch : 30 | Train Loss : 0.10 | Test Loss : 0.12\n",
            "Epoch : 40 | Train Loss : 0.09 | Test Loss : 0.11\n",
            "Epoch : 50 | Train Loss : 0.08 | Test Loss : 0.10\n",
            "Epoch : 60 | Train Loss : 0.07 | Test Loss : 0.09\n",
            "Epoch : 70 | Train Loss : 0.07 | Test Loss : 0.08\n",
            "Epoch : 80 | Train Loss : 0.06 | Test Loss : 0.07\n",
            "Epoch : 90 | Train Loss : 0.05 | Test Loss : 0.07\n"
          ]
        }
      ]
    },
    {
      "cell_type": "code",
      "source": [
        "# Plot the loss curves\n",
        "plt.plot(epoch_count, train_loss, label=\"Train loss\")\n",
        "plt.plot(epoch_count, test_loss, label=\"Test loss\")\n",
        "plt.title(\"Training and test loss curves\")\n",
        "plt.ylabel(\"Loss\")\n",
        "plt.xlabel(\"Epochs\")\n",
        "plt.legend()\n",
        "plt.show()"
      ],
      "metadata": {
        "colab": {
          "base_uri": "https://localhost:8080/",
          "height": 472
        },
        "id": "IkjkxdavRDW-",
        "outputId": "dbf11cfa-0c8c-4d90-ed6c-da8d2b6f38e0"
      },
      "execution_count": 31,
      "outputs": [
        {
          "output_type": "display_data",
          "data": {
            "text/plain": [
              "<Figure size 640x480 with 1 Axes>"
            ],
            "image/png": "[encoded data removed]"
          },
          "metadata": {}
        }
      ]
    },
    {
      "cell_type": "code",
      "source": [
        "predicted=model_0(X_test)"
      ],
      "metadata": {
        "id": "rup69EV3RDSU"
      },
      "execution_count": 32,
      "outputs": []
    },
    {
      "cell_type": "code",
      "source": [
        "predicted"
      ],
      "metadata": {
        "colab": {
          "base_uri": "https://localhost:8080/"
        },
        "id": "eryHeTsXCg4I",
        "outputId": "06b85ff7-7538-4828-fcc7-890780a91571"
      },
      "execution_count": 33,
      "outputs": [
        {
          "output_type": "execute_result",
          "data": {
            "text/plain": [
              "tensor([[0.3320],\n",
              "        [0.5551],\n",
              "        [0.4779],\n",
              "        [0.6066],\n",
              "        [0.3663],\n",
              "        [0.6323],\n",
              "        [0.4436],\n",
              "        [0.4350],\n",
              "        [0.4950],\n",
              "        [0.3835]], grad_fn=<AddBackward0>)"
            ]
          },
          "metadata": {},
          "execution_count": 33
        }
      ]
    },
    {
      "cell_type": "code",
      "source": [
        "plt.figure(figsize=(10,6))\n",
        "plt.plot(X_train,y_train,color=\"green\",marker=\"P\",label=\"Train data\")\n",
        "plt.plot(X_test,predicted.detach().numpy(),color=\"black\",marker=\"H\",linestyle=\"--\",label=\"Prediction\")\n",
        "plt.legend(loc=\"best\")\n",
        "plt.show()"
      ],
      "metadata": {
        "colab": {
          "base_uri": "https://localhost:8080/",
          "height": 522
        },
        "id": "WNzxqS9BRDLq",
        "outputId": "f4ae2c77-ad45-430a-b189-f227e71058d6"
      },
      "execution_count": 34,
      "outputs": [
        {
          "output_type": "display_data",
          "data": {
            "text/plain": [
              "<Figure size 1000x600 with 1 Axes>"
            ],
            "image/png": "[encoded data removed]"
          },
          "metadata": {}
        }
      ]
    },
    {
      "cell_type": "markdown",
      "source": [
        "# Save Model"
      ],
      "metadata": {
        "id": "PQljlTET4krt"
      }
    },
    {
      "cell_type": "code",
      "source": [
        "from pathlib import Path\n",
        "model_path=Path(\"Model\")\n",
        "model_path.mkdir(parents=True,exist_ok=True)\n",
        "model_name=\"first_model_save.pth\"\n",
        "model_save_path=model_path/model_name\n",
        "\n",
        "print(f\"Saving model to : {model_save_path}\")\n",
        "torch.save(obj=model_0.state_dict(),f=model_save_path)"
      ],
      "metadata": {
        "id": "K_CAYBRPEL26",
        "colab": {
          "base_uri": "https://localhost:8080/"
        },
        "outputId": "7d702287-5802-4844-c16e-3c48f6657737"
      },
      "execution_count": 37,
      "outputs": [
        {
          "output_type": "stream",
          "name": "stdout",
          "text": [
            "Saving model to : Model/first_model_save.pth\n"
          ]
        }
      ]
    },
    {
      "cell_type": "markdown",
      "source": [
        "# Load Save Model"
      ],
      "metadata": {
        "id": "WtixuZSK6FuF"
      }
    },
    {
      "cell_type": "code",
      "source": [
        "load_model=LinearModel_0()\n",
        "load_model.load_state_dict(torch.load(f=model_save_path))"
      ],
      "metadata": {
        "id": "hMxevOPnELrB",
        "colab": {
          "base_uri": "https://localhost:8080/"
        },
        "outputId": "600cb49b-05e1-4892-d98f-70123625dc9d"
      },
      "execution_count": 38,
      "outputs": [
        {
          "output_type": "execute_result",
          "data": {
            "text/plain": [
              "<All keys matched successfully>"
            ]
          },
          "metadata": {},
          "execution_count": 38
        }
      ]
    },
    {
      "cell_type": "code",
      "source": [
        "load_model.eval()\n",
        "with torch.inference_mode():\n",
        "\n",
        "\n",
        "\n",
        "  load_model_pred=load_model(X_test)"
      ],
      "metadata": {
        "id": "pBy8ootB7p-V"
      },
      "execution_count": 39,
      "outputs": []
    },
    {
      "cell_type": "code",
      "source": [
        "predicted==load_model_pred"
      ],
      "metadata": {
        "colab": {
          "base_uri": "https://localhost:8080/"
        },
        "id": "CJSQbdYe78Vr",
        "outputId": "af716f9b-26e7-41a0-dba7-490c0d7e2f1e"
      },
      "execution_count": 40,
      "outputs": [
        {
          "output_type": "execute_result",
          "data": {
            "text/plain": [
              "tensor([[True],\n",
              "        [True],\n",
              "        [True],\n",
              "        [True],\n",
              "        [True],\n",
              "        [True],\n",
              "        [True],\n",
              "        [True],\n",
              "        [True],\n",
              "        [True]])"
            ]
          },
          "metadata": {},
          "execution_count": 40
        }
      ]
    },
    {
      "cell_type": "code",
      "source": [],
      "metadata": {
        "id": "8gCwk1VH8JST"
      },
      "execution_count": null,
      "outputs": []
    }
  ]
}